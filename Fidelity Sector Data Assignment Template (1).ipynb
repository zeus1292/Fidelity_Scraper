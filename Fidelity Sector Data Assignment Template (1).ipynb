{
 "cells": [
  {
   "cell_type": "markdown",
   "metadata": {},
   "source": [
    "<h3>Process</h3>\n",
    "<li>Get a list of sectors and the links to the sector detail pages from the url (see function)\n",
    "<li>Loop through the list and call the function <i>get_sector_change_and_market_cap(sector_page_link)</i> for each sector\n",
    "<li>Accumulate the name, the change, the capitalization, the weight and the link for each sector in output_list (see function)\n",
    "<li>Sort the list by market weight"
   ]
  },
  {
   "cell_type": "markdown",
   "metadata": {},
   "source": [
    "<b>Notes:</b>\n",
    "<li>Note that the market weight is a string with a % sign at the back. You will need to get rid of the % and convert the string into a float before you can sort it\n",
    "<li>Your starting data is the url listed below. You need to extract all data, including links to the sector pages, from the page at this url\n",
    "<li>To sort a list of tuples by an arbitrary element, use the example at the bottom of this notebook"
   ]
  },
  {
   "cell_type": "code",
   "execution_count": 117,
   "metadata": {},
   "outputs": [],
   "source": [
    "import requests\n",
    "from bs4 import BeautifulSoup\n",
    "\n",
    "def get_us_sector_performance():\n",
    "    output_list = list()\n",
    "    url = \"https://eresearch.fidelity.com/eresearch/goto/markets_sectors/landing.jhtml\"\n",
    "    try:\n",
    "        response = requests.get(url)\n",
    "        if response.status_code == 200:\n",
    "            None\n",
    "        else:\n",
    "            print(\"Failure\")\n",
    "    except:\n",
    "        print(\"Something went wrong\")\n",
    "        return output_list\n",
    "    results_page=BeautifulSoup(response.content,'lxml')\n",
    "    all_a_tags = results_page.find_all('a',class_=\"heading1\")\n",
    "    for i in all_a_tags:\n",
    "        row = list()\n",
    "        row.append(i.get_text())\n",
    "        base_url = \"https://eresearch.fidelity.com\"\n",
    "        link = base_url+i.get('href')\n",
    "        a = get_sector_change_and_market_cap(base_url+i.get('href'))\n",
    "        if a == None:\n",
    "            return None\n",
    "        else:\n",
    "            row.extend(list(a))\n",
    "            row.append(link)\n",
    "            output_list.append(tuple(row))\n",
    "    output_list.sort(key=lambda x:x[2],reverse = True)\n",
    "    return output_list\n"
   ]
  },
  {
   "cell_type": "code",
   "execution_count": 118,
   "metadata": {},
   "outputs": [],
   "source": [
    "def get_sector_change_and_market_cap(sector_page_link):\n",
    "    s_response=requests.get(sector_page_link)\n",
    "    if s_response.status_code == 200:\n",
    "            None\n",
    "    else:\n",
    "            print(\"There is a problem with the request\")\n",
    "            return None\n",
    "    sector_response = BeautifulSoup(s_response.content,'lxml')\n",
    "    all_table_tags = sector_response.find_all('table', class_=\"snapshot-data-tbl\")\n",
    "    for i in all_table_tags:\n",
    "        all_span_class = i.find_all(\"span\")\n",
    "        print(all_span_class[1].get_text()[:-1],all_span_class[3].get_text(),all_span_class[5].get_text()[:-1])\n",
    "        \n",
    "#         try:\n",
    "#             sector_change=float(all_span_class[1].get_text()[:-1])\n",
    "#         except:\n",
    "#             sector_change=0.00\n",
    "#         try:\n",
    "#             sector_market_cap=all_span_class[3].get_text()\n",
    "#         except:\n",
    "#             sector_market_cap=\"0.00\"\n",
    "#         try:    \n",
    "#             sector_market_weight=float(all_span_class[5].get_text()[:-1])\n",
    "#         except:\n",
    "#             sector_market_weight=0.00\n",
    "#     return sector_change,sector_market_cap,sector_market_weight\n",
    "\n",
    "outerl=(get_us_sector_performance())"
   ]
  },
  {
   "cell_type": "code",
   "execution_count": 120,
   "metadata": {},
   "outputs": [
    {
     "data": {
      "text/plain": [
       "(-0.2, '$5.34T', 10.3)"
      ]
     },
     "execution_count": 120,
     "metadata": {},
     "output_type": "execute_result"
    }
   ],
   "source": [
    "#Test get_sector_change_and_market_cap()\n",
    "link = \"https://eresearch.fidelity.com/eresearch/markets_sectors/sectors/sectors_in_market.jhtml?tab=learn&sector=25\"\n",
    "get_sector_change_and_market_cap(link)\n",
    "\n",
    "#Should return (-0.40, $3.58T, 6.80)\n",
    "#Note that neither the -0.40, nor the 6.80, end with a %sign"
   ]
  },
  {
   "cell_type": "code",
   "execution_count": 119,
   "metadata": {},
   "outputs": [
    {
     "data": {
      "text/plain": [
       "\"\\n[('Telecommunication Services',\\n  0.21,\\n  '$1.74T',\\n  2.0,\\n  'https://eresearch.fidelity.com/eresearch/markets_sectors/sectors/sectors_in_market.jhtml?tab=learn&sector=50'),\\n ('Materials',\\n  0.22,\\n  '$1.95T',\\n  2.49,\\n  'https://eresearch.fidelity.com/eresearch/markets_sectors/sectors/sectors_in_market.jhtml?tab=learn&sector=15'),\\n ('Real Estate',\\n  -0.45,\\n  '$1.22T',\\n  2.7,\\n  'https://eresearch.fidelity.com/eresearch/markets_sectors/sectors/sectors_in_market.jhtml?tab=learn&sector=60'),\\n ('Utilities',\\n  -0.33,\\n  '$1.25T',\\n  2.86,\\n  'https://eresearch.fidelity.com/eresearch/markets_sectors/sectors/sectors_in_market.jhtml?tab=learn&sector=55'),\\n ('Energy',\\n  0.76,\\n  '$3.90T',\\n  5.83,\\n  'https://eresearch.fidelity.com/eresearch/markets_sectors/sectors/sectors_in_market.jhtml?tab=learn&sector=10'),\\n ('Consumer Staples',\\n  -0.32,\\n  '$3.58T',\\n  6.8,\\n  'https://eresearch.fidelity.com/eresearch/markets_sectors/sectors/sectors_in_market.jhtml?tab=learn&sector=30'),\\n ('Industrials',\\n  0.72,\\n  '$4.31T',\\n  9.83,\\n  'https://eresearch.fidelity.com/eresearch/markets_sectors/sectors/sectors_in_market.jhtml?tab=learn&sector=20'),\\n ('Consumer Discretionary',\\n  1.03,\\n  '$5.76T',\\n  12.9,\\n  'https://eresearch.fidelity.com/eresearch/markets_sectors/sectors/sectors_in_market.jhtml?tab=learn&sector=25'),\\n ('Financials',\\n  0.39,\\n  '$7.45T',\\n  13.71,\\n  'https://eresearch.fidelity.com/eresearch/markets_sectors/sectors/sectors_in_market.jhtml?tab=learn&sector=40'),\\n ('Health Care',\\n  0.76,\\n  '$5.70T',\\n  14.71,\\n  'https://eresearch.fidelity.com/eresearch/markets_sectors/sectors/sectors_in_market.jhtml?tab=learn&sector=35'),\\n ('Information Technology',\\n  0.81,\\n  '$9.84T',\\n  26.17,\\n  'https://eresearch.fidelity.com/eresearch/markets_sectors/sectors/sectors_in_market.jhtml?tab=learn&sector=45')]\\n  \\n\""
      ]
     },
     "execution_count": 119,
     "metadata": {},
     "output_type": "execute_result"
    }
   ],
   "source": [
    "#Test get_us_sector_performance()\n",
    "get_us_sector_performance()\n",
    "#Should return (example: obviously the results will vary over time!)\n",
    "\"\"\"\n",
    "[('Telecommunication Services',\n",
    "  0.21,\n",
    "  '$1.74T',\n",
    "  2.0,\n",
    "  'https://eresearch.fidelity.com/eresearch/markets_sectors/sectors/sectors_in_market.jhtml?tab=learn&sector=50'),\n",
    " ('Materials',\n",
    "  0.22,\n",
    "  '$1.95T',\n",
    "  2.49,\n",
    "  'https://eresearch.fidelity.com/eresearch/markets_sectors/sectors/sectors_in_market.jhtml?tab=learn&sector=15'),\n",
    " ('Real Estate',\n",
    "  -0.45,\n",
    "  '$1.22T',\n",
    "  2.7,\n",
    "  'https://eresearch.fidelity.com/eresearch/markets_sectors/sectors/sectors_in_market.jhtml?tab=learn&sector=60'),\n",
    " ('Utilities',\n",
    "  -0.33,\n",
    "  '$1.25T',\n",
    "  2.86,\n",
    "  'https://eresearch.fidelity.com/eresearch/markets_sectors/sectors/sectors_in_market.jhtml?tab=learn&sector=55'),\n",
    " ('Energy',\n",
    "  0.76,\n",
    "  '$3.90T',\n",
    "  5.83,\n",
    "  'https://eresearch.fidelity.com/eresearch/markets_sectors/sectors/sectors_in_market.jhtml?tab=learn&sector=10'),\n",
    " ('Consumer Staples',\n",
    "  -0.32,\n",
    "  '$3.58T',\n",
    "  6.8,\n",
    "  'https://eresearch.fidelity.com/eresearch/markets_sectors/sectors/sectors_in_market.jhtml?tab=learn&sector=30'),\n",
    " ('Industrials',\n",
    "  0.72,\n",
    "  '$4.31T',\n",
    "  9.83,\n",
    "  'https://eresearch.fidelity.com/eresearch/markets_sectors/sectors/sectors_in_market.jhtml?tab=learn&sector=20'),\n",
    " ('Consumer Discretionary',\n",
    "  1.03,\n",
    "  '$5.76T',\n",
    "  12.9,\n",
    "  'https://eresearch.fidelity.com/eresearch/markets_sectors/sectors/sectors_in_market.jhtml?tab=learn&sector=25'),\n",
    " ('Financials',\n",
    "  0.39,\n",
    "  '$7.45T',\n",
    "  13.71,\n",
    "  'https://eresearch.fidelity.com/eresearch/markets_sectors/sectors/sectors_in_market.jhtml?tab=learn&sector=40'),\n",
    " ('Health Care',\n",
    "  0.76,\n",
    "  '$5.70T',\n",
    "  14.71,\n",
    "  'https://eresearch.fidelity.com/eresearch/markets_sectors/sectors/sectors_in_market.jhtml?tab=learn&sector=35'),\n",
    " ('Information Technology',\n",
    "  0.81,\n",
    "  '$9.84T',\n",
    "  26.17,\n",
    "  'https://eresearch.fidelity.com/eresearch/markets_sectors/sectors/sectors_in_market.jhtml?tab=learn&sector=45')]\n",
    "  \n",
    "\"\"\""
   ]
  },
  {
   "cell_type": "code",
   "execution_count": 107,
   "metadata": {},
   "outputs": [
    {
     "data": {
      "text/plain": [
       "[('Communication Services',\n",
       "  -0.1,\n",
       "  0.0,\n",
       "  0.0,\n",
       "  'https://eresearch.fidelity.com/eresearch/markets_sectors/sectors/sectors_in_market.jhtml?tab=learn&sector=50'),\n",
       " ('Consumer Discretionary',\n",
       "  -0.2,\n",
       "  0.0,\n",
       "  10.3,\n",
       "  'https://eresearch.fidelity.com/eresearch/markets_sectors/sectors/sectors_in_market.jhtml?tab=learn&sector=25'),\n",
       " ('Consumer Staples',\n",
       "  -0.06,\n",
       "  0.0,\n",
       "  6.71,\n",
       "  'https://eresearch.fidelity.com/eresearch/markets_sectors/sectors/sectors_in_market.jhtml?tab=learn&sector=30'),\n",
       " ('Energy',\n",
       "  1.47,\n",
       "  0.0,\n",
       "  6.0,\n",
       "  'https://eresearch.fidelity.com/eresearch/markets_sectors/sectors/sectors_in_market.jhtml?tab=learn&sector=10'),\n",
       " ('Financials',\n",
       "  0.35,\n",
       "  0.0,\n",
       "  13.31,\n",
       "  'https://eresearch.fidelity.com/eresearch/markets_sectors/sectors/sectors_in_market.jhtml?tab=learn&sector=40'),\n",
       " ('Health Care',\n",
       "  0.54,\n",
       "  0.0,\n",
       "  15.05,\n",
       "  'https://eresearch.fidelity.com/eresearch/markets_sectors/sectors/sectors_in_market.jhtml?tab=learn&sector=35'),\n",
       " ('Industrials',\n",
       "  0.9,\n",
       "  0.0,\n",
       "  9.7,\n",
       "  'https://eresearch.fidelity.com/eresearch/markets_sectors/sectors/sectors_in_market.jhtml?tab=learn&sector=20'),\n",
       " ('Information Technology',\n",
       "  0.49,\n",
       "  0.0,\n",
       "  20.99,\n",
       "  'https://eresearch.fidelity.com/eresearch/markets_sectors/sectors/sectors_in_market.jhtml?tab=learn&sector=45'),\n",
       " ('Materials',\n",
       "  1.04,\n",
       "  0.0,\n",
       "  2.43,\n",
       "  'https://eresearch.fidelity.com/eresearch/markets_sectors/sectors/sectors_in_market.jhtml?tab=learn&sector=15'),\n",
       " ('Real Estate',\n",
       "  -0.85,\n",
       "  0.0,\n",
       "  2.65,\n",
       "  'https://eresearch.fidelity.com/eresearch/markets_sectors/sectors/sectors_in_market.jhtml?tab=learn&sector=60'),\n",
       " ('Utilities',\n",
       "  -0.3,\n",
       "  0.0,\n",
       "  2.83,\n",
       "  'https://eresearch.fidelity.com/eresearch/markets_sectors/sectors/sectors_in_market.jhtml?tab=learn&sector=55')]"
      ]
     },
     "execution_count": 107,
     "metadata": {},
     "output_type": "execute_result"
    }
   ],
   "source": [
    "outerl"
   ]
  },
  {
   "cell_type": "code",
   "execution_count": null,
   "metadata": {},
   "outputs": [],
   "source": []
  }
 ],
 "metadata": {
  "kernelspec": {
   "display_name": "Python 3",
   "language": "python",
   "name": "python3"
  },
  "language_info": {
   "codemirror_mode": {
    "name": "ipython",
    "version": 3
   },
   "file_extension": ".py",
   "mimetype": "text/x-python",
   "name": "python",
   "nbconvert_exporter": "python",
   "pygments_lexer": "ipython3",
   "version": "3.6.3"
  }
 },
 "nbformat": 4,
 "nbformat_minor": 2
}
